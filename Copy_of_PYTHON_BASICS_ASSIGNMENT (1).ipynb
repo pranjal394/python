{
  "nbformat": 4,
  "nbformat_minor": 0,
  "metadata": {
    "colab": {
      "provenance": []
    },
    "kernelspec": {
      "name": "python3",
      "display_name": "Python 3"
    },
    "language_info": {
      "name": "python"
    }
  },
  "cells": [
    {
      "cell_type": "code",
      "source": [],
      "metadata": {
        "id": "Nv685NbgmW6J"
      },
      "execution_count": null,
      "outputs": []
    },
    {
      "cell_type": "code",
      "source": [
        "\"\"\"Q1 What is python and why is it popular?\"\"\""
      ],
      "metadata": {
        "colab": {
          "base_uri": "https://localhost:8080/",
          "height": 53
        },
        "id": "iP1DTiv02cn7",
        "outputId": "29b53f89-2720-4ecf-af07-6145c4767d92"
      },
      "execution_count": null,
      "outputs": [
        {
          "output_type": "execute_result",
          "data": {
            "text/plain": [
              "'Q1 What is python and why is it popular?'"
            ],
            "application/vnd.google.colaboratory.intrinsic+json": {
              "type": "string"
            }
          },
          "metadata": {},
          "execution_count": 6
        }
      ]
    },
    {
      "cell_type": "code",
      "source": [
        "\"\"\" ans 1Python is a high-level, general-purpose programming language known for its simplicity and readability. It is widely used in various fields, including web development, data analysis, artificial intelligence, automation, and scientific computing. Python's syntax is easy to learn, making it a great choice for beginners, while its powerful libraries and frameworks make it useful for advanced programmers. One of Python's key strengths is its versatility—it can be used for small scripts as well as large-scale applications. Additionally, Python has a strong community that provides extensive support, making it a valuable tool for anyone looking to develop software efficiently.\"\"\""
      ],
      "metadata": {
        "colab": {
          "base_uri": "https://localhost:8080/",
          "height": 400
        },
        "id": "4uxnU9yAsKVP",
        "outputId": "ba31bc7f-6be5-492a-c4a6-b43224140c14"
      },
      "execution_count": null,
      "outputs": [
        {
          "output_type": "execute_result",
          "data": {
            "text/plain": [
              "\" ans 1Python is a high-level, general-purpose programming language known for its simplicity and readability. It is widely used in various fields, including web development, data analysis, artificial intelligence, automation, and scientific computing. Python's syntax is easy to learn, making it a great choice for beginners, while its powerful libraries and frameworks make it useful for advanced programmers. One of Python's key strengths is its versatility—it can be used for small scripts as well as large-scale applications. Additionally, Python has a strong community that provides extensive support, making it a valuable tool for anyone looking to develop software efficiently.\""
            ],
            "application/vnd.google.colaboratory.intrinsic+json": {
              "type": "string"
            }
          },
          "metadata": {},
          "execution_count": 1
        }
      ]
    },
    {
      "cell_type": "code",
      "source": [
        "\"\"\"Q2 what is an interpreter in Python.\"\"\""
      ],
      "metadata": {
        "id": "SARNdq7r28q7",
        "colab": {
          "base_uri": "https://localhost:8080/",
          "height": 53
        },
        "outputId": "0cbbfeea-9f26-419e-dbda-20c904780c07"
      },
      "execution_count": null,
      "outputs": [
        {
          "output_type": "execute_result",
          "data": {
            "text/plain": [
              "'Q2 what is an interpreter in Python.'"
            ],
            "application/vnd.google.colaboratory.intrinsic+json": {
              "type": "string"
            }
          },
          "metadata": {},
          "execution_count": 8
        }
      ]
    },
    {
      "cell_type": "code",
      "source": [
        "\"\"\" Ans 2An interpreter in Python is a program that executes Python code line by line, converting it into machine-readable instructions that the computer can understand. Unlike compilers, which translate the entire code before execution, an interpreter processes the code dynamically, executing each statement immediately. This makes Python an interpreted language, allowing for easier debugging and interactive coding. The Python interpreter reads the source code, translates it into an intermediate form called bytecode, and then executes it using the Python Virtual Machine (PVM). This approach makes Python highly flexible and portable, as the same code can run on different platforms without modification.\"\"\""
      ],
      "metadata": {
        "colab": {
          "base_uri": "https://localhost:8080/",
          "height": 417
        },
        "id": "LVBCn-Xd6yNP",
        "outputId": "f31a7f33-d6ae-45ca-dd03-5217b161a496"
      },
      "execution_count": null,
      "outputs": [
        {
          "output_type": "execute_result",
          "data": {
            "text/plain": [
              "' Ans 2An interpreter in Python is a program that executes Python code line by line, converting it into machine-readable instructions that the computer can understand. Unlike compilers, which translate the entire code before execution, an interpreter processes the code dynamically, executing each statement immediately. This makes Python an interpreted language, allowing for easier debugging and interactive coding. The Python interpreter reads the source code, translates it into an intermediate form called bytecode, and then executes it using the Python Virtual Machine (PVM). This approach makes Python highly flexible and portable, as the same code can run on different platforms without modification.'"
            ],
            "application/vnd.google.colaboratory.intrinsic+json": {
              "type": "string"
            }
          },
          "metadata": {},
          "execution_count": 10
        }
      ]
    },
    {
      "cell_type": "code",
      "source": [
        "\"\"\" Ques 3 what are pre defined keywords in Python?\"\"\""
      ],
      "metadata": {
        "colab": {
          "base_uri": "https://localhost:8080/",
          "height": 53
        },
        "id": "r4Vb25077Vae",
        "outputId": "9677d63a-fb17-4877-dd5e-3398b6184a2b"
      },
      "execution_count": null,
      "outputs": [
        {
          "output_type": "execute_result",
          "data": {
            "text/plain": [
              "' Ques 3 what are pre defined keywords in Python?'"
            ],
            "application/vnd.google.colaboratory.intrinsic+json": {
              "type": "string"
            }
          },
          "metadata": {},
          "execution_count": 11
        }
      ]
    },
    {
      "cell_type": "code",
      "source": [
        "\"\"\" ans 3Predefined keywords in Python are reserved words that have special meanings and cannot be used as identifiers (such as variable names, function names, or class names). These keywords are part of the Python language syntax and serve specific purposes, such as defining control flow, looping, handling exceptions, and working with functions and classes. Examples of Python keywords include if, else, elif for conditional statements, for and while for loops, try, except, and finally for exception handling, and def, class, return, and lambda for defining functions and classes. Other important keywords include import for including external modules, break and continue for controlling loops, and True, False, and None for representing Boolean and null values. The list of keywords may vary between Python versions, and the keyword module in Python can be used to check the complete set of reserved words in a specific version.\"\"\""
      ],
      "metadata": {
        "colab": {
          "base_uri": "https://localhost:8080/",
          "height": 539
        },
        "id": "XM897iob7riA",
        "outputId": "3f0b34cd-bf29-4207-e8c7-198af5b671c7"
      },
      "execution_count": null,
      "outputs": [
        {
          "output_type": "execute_result",
          "data": {
            "text/plain": [
              "' ans 3Predefined keywords in Python are reserved words that have special meanings and cannot be used as identifiers (such as variable names, function names, or class names). These keywords are part of the Python language syntax and serve specific purposes, such as defining control flow, looping, handling exceptions, and working with functions and classes. Examples of Python keywords include if, else, elif for conditional statements, for and while for loops, try, except, and finally for exception handling, and def, class, return, and lambda for defining functions and classes. Other important keywords include import for including external modules, break and continue for controlling loops, and True, False, and None for representing Boolean and null values. The list of keywords may vary between Python versions, and the keyword module in Python can be used to check the complete set of reserved words in a specific version.'"
            ],
            "application/vnd.google.colaboratory.intrinsic+json": {
              "type": "string"
            }
          },
          "metadata": {},
          "execution_count": 12
        }
      ]
    },
    {
      "cell_type": "code",
      "source": [
        "\"\"\" Ques 4 can keywords be used as variable names ?\"\"\""
      ],
      "metadata": {
        "colab": {
          "base_uri": "https://localhost:8080/",
          "height": 53
        },
        "id": "dkIrkRkG8KTS",
        "outputId": "12464781-16c0-4ed9-df5a-994c757380ce"
      },
      "execution_count": null,
      "outputs": [
        {
          "output_type": "execute_result",
          "data": {
            "text/plain": [
              "' Ques 4 can keywords be used as variable names ?'"
            ],
            "application/vnd.google.colaboratory.intrinsic+json": {
              "type": "string"
            }
          },
          "metadata": {},
          "execution_count": 13
        }
      ]
    },
    {
      "cell_type": "code",
      "source": [
        "\"\"\" No we can't use keywords as variables because it will throw a syntax error.\"\"\""
      ],
      "metadata": {
        "colab": {
          "base_uri": "https://localhost:8080/",
          "height": 70
        },
        "id": "-bdKn0r08dPE",
        "outputId": "fcefaa8b-b0b6-495c-f1c4-e96046569d36"
      },
      "execution_count": null,
      "outputs": [
        {
          "output_type": "execute_result",
          "data": {
            "text/plain": [
              "\" No we can't use keywords as variables because it will throw a syntax error.\""
            ],
            "application/vnd.google.colaboratory.intrinsic+json": {
              "type": "string"
            }
          },
          "metadata": {},
          "execution_count": 15
        }
      ]
    },
    {
      "cell_type": "code",
      "source": [
        "\"\"\" Ques 5 What is mutability in Python?\"\"\""
      ],
      "metadata": {
        "colab": {
          "base_uri": "https://localhost:8080/",
          "height": 53
        },
        "id": "i4h42Z8R8r5d",
        "outputId": "eb9698d3-ac37-4826-e231-18edea5852ba"
      },
      "execution_count": null,
      "outputs": [
        {
          "output_type": "execute_result",
          "data": {
            "text/plain": [
              "' Ques 5 What is mutability in Python?'"
            ],
            "application/vnd.google.colaboratory.intrinsic+json": {
              "type": "string"
            }
          },
          "metadata": {},
          "execution_count": 17
        }
      ]
    },
    {
      "cell_type": "code",
      "source": [
        "\"\"\" Ans 5 Mutability in Python refers to an object's ability to change after creation. Mutable objects, like lists and dictionaries, allow modification without changing their identity. Immutable objects, such as strings and tuples, cannot be altered after creation. Understanding mutability is crucial for efficient memory management and avoiding unintended side effects in programs.\"\"\""
      ],
      "metadata": {
        "colab": {
          "base_uri": "https://localhost:8080/",
          "height": 226
        },
        "id": "rzoHFVWo8-jy",
        "outputId": "bce9fc3f-675c-46ba-88d6-504184423bef"
      },
      "execution_count": null,
      "outputs": [
        {
          "output_type": "execute_result",
          "data": {
            "text/plain": [
              "\" Ans 5 Mutability in Python refers to an object's ability to change after creation. Mutable objects, like lists and dictionaries, allow modification without changing their identity. Immutable objects, such as strings and tuples, cannot be altered after creation. Understanding mutability is crucial for efficient memory management and avoiding unintended side effects in programs.\""
            ],
            "application/vnd.google.colaboratory.intrinsic+json": {
              "type": "string"
            }
          },
          "metadata": {},
          "execution_count": 19
        }
      ]
    },
    {
      "cell_type": "code",
      "source": [
        "\"\"\"Ques 6 why are lists mutable but tuples immutable?\"\"\""
      ],
      "metadata": {
        "colab": {
          "base_uri": "https://localhost:8080/",
          "height": 53
        },
        "id": "zmtywI1U9UTL",
        "outputId": "7b674fa3-03c2-49eb-864d-1ca0db6224d0"
      },
      "execution_count": null,
      "outputs": [
        {
          "output_type": "execute_result",
          "data": {
            "text/plain": [
              "'Ques 6 why are lists mutable but tuples immutable?'"
            ],
            "application/vnd.google.colaboratory.intrinsic+json": {
              "type": "string"
            }
          },
          "metadata": {},
          "execution_count": 20
        }
      ]
    },
    {
      "cell_type": "code",
      "source": [
        "\"\"\"Ans 6 In Python, lists are mutable because they are designed to be flexible and allow modifications, such as adding, removing, or changing elements. This mutability makes lists suitable for dynamic collections where frequent updates are needed. Behind the scenes, lists allocate extra memory to accommodate future changes, making them efficient for modifications. On the other hand, tuples are immutable because they are meant to be fixed collections of items, ensuring data integrity and optimization. Since tuples cannot be changed after creation, Python can implement them more efficiently, using less memory and allowing faster access. Their immutability also makes them hashable, meaning they can be used as keys in dictionaries, unlike lists. This fundamental difference arises from their intended use cases—lists for dynamic data and tuples for fixed, reliable structures.\"\"\""
      ],
      "metadata": {
        "colab": {
          "base_uri": "https://localhost:8080/",
          "height": 504
        },
        "id": "kigL3X-79fIV",
        "outputId": "140df694-398a-485a-ceaf-6fd77dbffc3d"
      },
      "execution_count": null,
      "outputs": [
        {
          "output_type": "execute_result",
          "data": {
            "text/plain": [
              "'Ans 6 In Python, lists are mutable because they are designed to be flexible and allow modifications, such as adding, removing, or changing elements. This mutability makes lists suitable for dynamic collections where frequent updates are needed. Behind the scenes, lists allocate extra memory to accommodate future changes, making them efficient for modifications. On the other hand, tuples are immutable because they are meant to be fixed collections of items, ensuring data integrity and optimization. Since tuples cannot be changed after creation, Python can implement them more efficiently, using less memory and allowing faster access. Their immutability also makes them hashable, meaning they can be used as keys in dictionaries, unlike lists. This fundamental difference arises from their intended use cases—lists for dynamic data and tuples for fixed, reliable structures.'"
            ],
            "application/vnd.google.colaboratory.intrinsic+json": {
              "type": "string"
            }
          },
          "metadata": {},
          "execution_count": 21
        }
      ]
    },
    {
      "cell_type": "code",
      "source": [
        "\"\"\" Ques 7 What is the difference between  \"==\" and is operators in Python?\"\"\""
      ],
      "metadata": {
        "colab": {
          "base_uri": "https://localhost:8080/",
          "height": 70
        },
        "id": "AjstOP89-GcO",
        "outputId": "904d52a3-de90-485c-fc01-af867b3dee2b"
      },
      "execution_count": null,
      "outputs": [
        {
          "output_type": "execute_result",
          "data": {
            "text/plain": [
              "' Ques 7 What is the difference between  \"==\" and is operators in Python?'"
            ],
            "application/vnd.google.colaboratory.intrinsic+json": {
              "type": "string"
            }
          },
          "metadata": {},
          "execution_count": 23
        }
      ]
    },
    {
      "cell_type": "code",
      "source": [
        "\"\"\" ans 7 In Python, the == operator checks for value equality, meaning it evaluates whether two variables have the same data or content, even if they are stored in different memory locations. On the other hand, the is operator checks for identity equality, meaning it verifies whether two variables point to the exact same object in memory. For example, a = [1, 2, 3] and b = [1, 2, 3] would result in a == b being True because their contents are identical, but a is b would be False because they are separate objects stored at different memory addresses. However, for immutable objects like small integers and strings, Python may reuse memory locations, so x = 10 and y = 10 might make x is y evaluate to True due to internal optimizations. Therefore, == is used to compare values, while is is used to check if two variables refer to the same object in memory.\"\"\""
      ],
      "metadata": {
        "colab": {
          "base_uri": "https://localhost:8080/",
          "height": 487
        },
        "id": "yjM9IQab-bVu",
        "outputId": "17a24d4d-d692-4747-ee9a-a2e1e6287eb8"
      },
      "execution_count": null,
      "outputs": [
        {
          "output_type": "execute_result",
          "data": {
            "text/plain": [
              "' ans 7 In Python, the == operator checks for value equality, meaning it evaluates whether two variables have the same data or content, even if they are stored in different memory locations. On the other hand, the is operator checks for identity equality, meaning it verifies whether two variables point to the exact same object in memory. For example, a = [1, 2, 3] and b = [1, 2, 3] would result in a == b being True because their contents are identical, but a is b would be False because they are separate objects stored at different memory addresses. However, for immutable objects like small integers and strings, Python may reuse memory locations, so x = 10 and y = 10 might make x is y evaluate to True due to internal optimizations. Therefore, == is used to compare values, while is is used to check if two variables refer to the same object in memory.'"
            ],
            "application/vnd.google.colaboratory.intrinsic+json": {
              "type": "string"
            }
          },
          "metadata": {},
          "execution_count": 24
        }
      ]
    },
    {
      "cell_type": "code",
      "source": [
        "\"\"\" Ques 8 what are logical operators in Python?\"\"\""
      ],
      "metadata": {
        "colab": {
          "base_uri": "https://localhost:8080/",
          "height": 53
        },
        "id": "bleXwaq__bnc",
        "outputId": "d5ae5fb0-12bb-4c11-dc7c-a669465090f3"
      },
      "execution_count": null,
      "outputs": [
        {
          "output_type": "execute_result",
          "data": {
            "text/plain": [
              "' Ques 8 what are logical operators in Python?'"
            ],
            "application/vnd.google.colaboratory.intrinsic+json": {
              "type": "string"
            }
          },
          "metadata": {},
          "execution_count": 26
        }
      ]
    },
    {
      "cell_type": "code",
      "source": [
        "\"\"\" ans 8 Logical operators in Python are used to combine conditional statements and evaluate expressions based on logic. Python has three logical operators: and, or, and not. The and operator returns True if both conditions are true; otherwise, it returns False. For example, x = 10; y = 20; print(x > 5 and y < 30) will output True because both conditions are satisfied. The or operator returns True if at least one of the conditions is true. For instance, print(x > 15 or y < 30) will output True because the second condition is satisfied. The not operator is a negation operator that inverts the truth value of a condition. For example, print(not(x > 5)) will return False because x > 5 is True, and not negates it. Logical operators are widely used in decision-making, loops, and complex conditions in Python programs.\"\"\""
      ],
      "metadata": {
        "colab": {
          "base_uri": "https://localhost:8080/",
          "height": 469
        },
        "id": "vzjgC3lXAXcw",
        "outputId": "d90137d0-6b77-4006-b47e-28065181978c"
      },
      "execution_count": null,
      "outputs": [
        {
          "output_type": "execute_result",
          "data": {
            "text/plain": [
              "' ans 8 Logical operators in Python are used to combine conditional statements and evaluate expressions based on logic. Python has three logical operators: and, or, and not. The and operator returns True if both conditions are true; otherwise, it returns False. For example, x = 10; y = 20; print(x > 5 and y < 30) will output True because both conditions are satisfied. The or operator returns True if at least one of the conditions is true. For instance, print(x > 15 or y < 30) will output True because the second condition is satisfied. The not operator is a negation operator that inverts the truth value of a condition. For example, print(not(x > 5)) will return False because x > 5 is True, and not negates it. Logical operators are widely used in decision-making, loops, and complex conditions in Python programs.'"
            ],
            "application/vnd.google.colaboratory.intrinsic+json": {
              "type": "string"
            }
          },
          "metadata": {},
          "execution_count": 27
        }
      ]
    },
    {
      "cell_type": "code",
      "source": [
        "\"\"\" Ques 9 what is type casting in Python?\"\"\""
      ],
      "metadata": {
        "colab": {
          "base_uri": "https://localhost:8080/",
          "height": 53
        },
        "id": "y-GZrOWOAjH1",
        "outputId": "33ed5390-cac1-4df1-aa72-3013d76d7b22"
      },
      "execution_count": null,
      "outputs": [
        {
          "output_type": "execute_result",
          "data": {
            "text/plain": [
              "' Ques 9 what is type casting in Python?'"
            ],
            "application/vnd.google.colaboratory.intrinsic+json": {
              "type": "string"
            }
          },
          "metadata": {},
          "execution_count": 28
        }
      ]
    },
    {
      "cell_type": "code",
      "source": [
        "\"\"\" Ans 9 Type casting in Python is the process of converting a variable from one data type to another. This can be done using built-in functions such as int(), float(), str(), list(), and others. Type casting is useful when performing operations that require a specific data type. For example, if you take user input using input(), it is stored as a string by default, but you may need to convert it to an integer using int() before performing mathematical calculations. There are two types of type casting: implicit and explicit. Implicit type casting is done automatically by Python when converting a smaller data type to a larger one, such as converting an integer to a float. Explicit type casting, also called type conversion, is when the programmer manually converts one data type to another using functions like int(), float(), or str(). Proper type casting ensures that operations are performed correctly and prevents errors caused by incompatible data types.\"\"\""
      ],
      "metadata": {
        "colab": {
          "base_uri": "https://localhost:8080/",
          "height": 556
        },
        "id": "IqA-SSRYBU11",
        "outputId": "86c51d19-fbae-4120-d5be-050abc59df2d"
      },
      "execution_count": null,
      "outputs": [
        {
          "output_type": "execute_result",
          "data": {
            "text/plain": [
              "' Ans 9 Type casting in Python is the process of converting a variable from one data type to another. This can be done using built-in functions such as int(), float(), str(), list(), and others. Type casting is useful when performing operations that require a specific data type. For example, if you take user input using input(), it is stored as a string by default, but you may need to convert it to an integer using int() before performing mathematical calculations. There are two types of type casting: implicit and explicit. Implicit type casting is done automatically by Python when converting a smaller data type to a larger one, such as converting an integer to a float. Explicit type casting, also called type conversion, is when the programmer manually converts one data type to another using functions like int(), float(), or str(). Proper type casting ensures that operations are performed correctly and prevents errors caused by incompatible data types.'"
            ],
            "application/vnd.google.colaboratory.intrinsic+json": {
              "type": "string"
            }
          },
          "metadata": {},
          "execution_count": 29
        }
      ]
    },
    {
      "cell_type": "code",
      "source": [
        "\"\"\" Ques 10 what is the difference between implicit and explicit type casting ?\"\"\""
      ],
      "metadata": {
        "colab": {
          "base_uri": "https://localhost:8080/",
          "height": 70
        },
        "id": "BaNiHhcLEYUD",
        "outputId": "a56fbf0b-8026-44b4-c92f-dbb2b0f64d19"
      },
      "execution_count": null,
      "outputs": [
        {
          "output_type": "execute_result",
          "data": {
            "text/plain": [
              "' Ques 10 what is the difference between implicit and explicit type casting ?'"
            ],
            "application/vnd.google.colaboratory.intrinsic+json": {
              "type": "string"
            }
          },
          "metadata": {},
          "execution_count": 30
        }
      ]
    },
    {
      "cell_type": "code",
      "source": [
        "\"\"\" Ans 10 Implicit and explicit type casting are two ways of converting one data type into another in programming. Implicit type casting (also called type promotion) happens automatically when a value of a smaller data type is converted into a larger data type to prevent data loss. For example, in Python, if an integer is added to a float, the integer is automatically converted to a float to maintain precision. On the other hand, explicit type casting (also called type conversion) is manually done by the programmer using built-in functions like int(), float(), or str(). This is necessary when converting between incompatible data types or when a specific conversion is required, such as converting a string input into an integer. Unlike implicit conversion, explicit conversion requires careful handling to avoid errors like data loss or invalid conversions (e.g., trying to convert a non-numeric string to an integer).\"\"\""
      ],
      "metadata": {
        "colab": {
          "base_uri": "https://localhost:8080/",
          "height": 521
        },
        "id": "wFXGCx9jFQYA",
        "outputId": "81267b45-53f1-4bfd-b69a-288aef3c5faa"
      },
      "execution_count": null,
      "outputs": [
        {
          "output_type": "execute_result",
          "data": {
            "text/plain": [
              "' Ans 10 Implicit and explicit type casting are two ways of converting one data type into another in programming. Implicit type casting (also called type promotion) happens automatically when a value of a smaller data type is converted into a larger data type to prevent data loss. For example, in Python, if an integer is added to a float, the integer is automatically converted to a float to maintain precision. On the other hand, explicit type casting (also called type conversion) is manually done by the programmer using built-in functions like int(), float(), or str(). This is necessary when converting between incompatible data types or when a specific conversion is required, such as converting a string input into an integer. Unlike implicit conversion, explicit conversion requires careful handling to avoid errors like data loss or invalid conversions (e.g., trying to convert a non-numeric string to an integer).'"
            ],
            "application/vnd.google.colaboratory.intrinsic+json": {
              "type": "string"
            }
          },
          "metadata": {},
          "execution_count": 31
        }
      ]
    },
    {
      "cell_type": "code",
      "source": [
        "\"\"\"Ques 11 what is the purpose of conditional statements in Python?\"\"\""
      ],
      "metadata": {
        "colab": {
          "base_uri": "https://localhost:8080/",
          "height": 70
        },
        "id": "qP5L3tdCsn2a",
        "outputId": "fb99dd1f-a3c1-4531-b59b-d19402d8098e"
      },
      "execution_count": null,
      "outputs": [
        {
          "output_type": "execute_result",
          "data": {
            "text/plain": [
              "'Ques 11 what is the purpose of conditional statements in Python?'"
            ],
            "application/vnd.google.colaboratory.intrinsic+json": {
              "type": "string"
            }
          },
          "metadata": {},
          "execution_count": 2
        }
      ]
    },
    {
      "cell_type": "code",
      "source": [
        "\"\"\" answer 11 Conditional statements in Python are used to control the flow of a program by executing specific blocks of code based on certain conditions. They allow a program to make decisions by evaluating expressions and determining which code should run depending on whether the conditions are true or false. The primary conditional statements in Python include if, elif, and else. The if statement checks a condition and executes the associated block of code if the condition is true. The elif (short for \"else if\") statement allows for multiple conditions to be checked in sequence, executing the corresponding block of code when a condition is met. The else statement provides a fallback, ensuring that some code runs even if none of the previous conditions are true. These statements help make programs more dynamic and responsive by enabling decision-making processes, such as validating user input, handling different scenarios, and implementing logic based on various factors.\"\"\""
      ],
      "metadata": {
        "colab": {
          "base_uri": "https://localhost:8080/",
          "height": 556
        },
        "id": "4xXBCfdttEvy",
        "outputId": "e3ef4a95-786c-42e0-8e5c-1d4fa4d9b231"
      },
      "execution_count": null,
      "outputs": [
        {
          "output_type": "execute_result",
          "data": {
            "text/plain": [
              "' answer 11 Conditional statements in Python are used to control the flow of a program by executing specific blocks of code based on certain conditions. They allow a program to make decisions by evaluating expressions and determining which code should run depending on whether the conditions are true or false. The primary conditional statements in Python include if, elif, and else. The if statement checks a condition and executes the associated block of code if the condition is true. The elif (short for \"else if\") statement allows for multiple conditions to be checked in sequence, executing the corresponding block of code when a condition is met. The else statement provides a fallback, ensuring that some code runs even if none of the previous conditions are true. These statements help make programs more dynamic and responsive by enabling decision-making processes, such as validating user input, handling different scenarios, and implementing logic based on various factors.'"
            ],
            "application/vnd.google.colaboratory.intrinsic+json": {
              "type": "string"
            }
          },
          "metadata": {},
          "execution_count": 4
        }
      ]
    },
    {
      "cell_type": "code",
      "source": [
        "\"\"\" ques 12 How does the elif statement work?\"\"\""
      ],
      "metadata": {
        "colab": {
          "base_uri": "https://localhost:8080/",
          "height": 53
        },
        "id": "MIX7o44iusT-",
        "outputId": "f4eb2fc2-53c7-4838-8267-58d2515ded92"
      },
      "execution_count": null,
      "outputs": [
        {
          "output_type": "execute_result",
          "data": {
            "text/plain": [
              "' ques 12 How does the elif statement work?'"
            ],
            "application/vnd.google.colaboratory.intrinsic+json": {
              "type": "string"
            }
          },
          "metadata": {},
          "execution_count": 5
        }
      ]
    },
    {
      "cell_type": "code",
      "source": [
        "\"\"\" ans 12 The elif statement in Python is used when you have more than one condition to check. It stands for \"else if.\" It comes after an if statement and before an else statement (if there is one). Python checks the if condition first. If it is True, the code inside the if block runs, and Python skips the rest. If the if condition is False, Python moves to the elif condition. If the elif condition is True, its block of code runs. If there are multiple elif statements, Python checks them one by one. If none of the if or elif conditions are True, the else block (if present) runs. This helps to check multiple conditions in a simple and clean way.\"\"\""
      ],
      "metadata": {
        "colab": {
          "base_uri": "https://localhost:8080/",
          "height": 383
        },
        "id": "5cX09RCPwM1w",
        "outputId": "d92bada7-e152-4f3e-c706-af6e27ac67a0"
      },
      "execution_count": null,
      "outputs": [
        {
          "output_type": "execute_result",
          "data": {
            "text/plain": [
              "' ans 12 The elif statement in Python is used when you have more than one condition to check. It stands for \"else if.\" It comes after an if statement and before an else statement (if there is one). Python checks the if condition first. If it is True, the code inside the if block runs, and Python skips the rest. If the if condition is False, Python moves to the elif condition. If the elif condition is True, its block of code runs. If there are multiple elif statements, Python checks them one by one. If none of the if or elif conditions are True, the else block (if present) runs. This helps to check multiple conditions in a simple and clean way.'"
            ],
            "application/vnd.google.colaboratory.intrinsic+json": {
              "type": "string"
            }
          },
          "metadata": {},
          "execution_count": 6
        }
      ]
    },
    {
      "cell_type": "code",
      "source": [
        "\"\"\" Ques 13 What is the difference between for and while loops?\"\"\""
      ],
      "metadata": {
        "colab": {
          "base_uri": "https://localhost:8080/",
          "height": 53
        },
        "id": "ItFH-99RwkFR",
        "outputId": "c5530df7-edda-4dd6-bcd1-9bad2a864d83"
      },
      "execution_count": null,
      "outputs": [
        {
          "output_type": "execute_result",
          "data": {
            "text/plain": [
              "' Ques 13 What is the difference between for and while loops?'"
            ],
            "application/vnd.google.colaboratory.intrinsic+json": {
              "type": "string"
            }
          },
          "metadata": {},
          "execution_count": 7
        }
      ]
    },
    {
      "cell_type": "code",
      "source": [
        "\"\"\" ans 13 A for loop and a while loop are both used for iteration in Python, but they differ in how they operate. A for loop is used when the number of iterations is known or when iterating over a sequence like a list, tuple, string, or range. It automatically goes through each item in the sequence and stops when there are no more elements. In contrast, a while loop is used when the number of iterations is not known beforehand and continues executing as long as a specified condition remains true. This makes while loops useful for scenarios where the loop needs to run until a certain condition is met, such as waiting for user input or checking sensor data. However, if the condition in a while loop never becomes false, it can lead to an infinite loop, whereas a for loop usually terminates when it reaches the end of its sequence.\"\"\""
      ],
      "metadata": {
        "colab": {
          "base_uri": "https://localhost:8080/",
          "height": 487
        },
        "id": "DH0wfYYlxIKm",
        "outputId": "4a38ee5f-4639-49fe-9f3e-ce1a91cff395"
      },
      "execution_count": null,
      "outputs": [
        {
          "output_type": "execute_result",
          "data": {
            "text/plain": [
              "' ans 13 A for loop and a while loop are both used for iteration in Python, but they differ in how they operate. A for loop is used when the number of iterations is known or when iterating over a sequence like a list, tuple, string, or range. It automatically goes through each item in the sequence and stops when there are no more elements. In contrast, a while loop is used when the number of iterations is not known beforehand and continues executing as long as a specified condition remains true. This makes while loops useful for scenarios where the loop needs to run until a certain condition is met, such as waiting for user input or checking sensor data. However, if the condition in a while loop never becomes false, it can lead to an infinite loop, whereas a for loop usually terminates when it reaches the end of its sequence.'"
            ],
            "application/vnd.google.colaboratory.intrinsic+json": {
              "type": "string"
            }
          },
          "metadata": {},
          "execution_count": 8
        }
      ]
    },
    {
      "cell_type": "code",
      "source": [
        "\"\"\" Ques 14 Describe a scenario in which a while loop is more suitable than a for loop?\"\"\""
      ],
      "metadata": {
        "colab": {
          "base_uri": "https://localhost:8080/",
          "height": 70
        },
        "id": "9kkLlnZRxvu7",
        "outputId": "5468fb09-0a96-46bb-d0c7-3eeedd851a4f"
      },
      "execution_count": null,
      "outputs": [
        {
          "output_type": "execute_result",
          "data": {
            "text/plain": [
              "' Ques 14 Describe a scenario in which a while loop is more suitable than a for loop?'"
            ],
            "application/vnd.google.colaboratory.intrinsic+json": {
              "type": "string"
            }
          },
          "metadata": {},
          "execution_count": 9
        }
      ]
    },
    {
      "cell_type": "code",
      "source": [
        "\"\"\"A while loop is more suitable than a for loop when the number of iterations is not known beforehand and depends on a certain condition being met. For example, consider a scenario where a user is asked to enter a password, and the program should keep prompting the user until they enter the correct one. In this case, using a while loop is ideal because the number of attempts is not fixed; it depends on when the user enters the correct password. A for loop, on the other hand, is generally used when the number of iterations is predetermined, such as looping through a list of items or running a loop a specific number of times. Therefore, when the termination condition is uncertain and depends on user input or a changing variable, a while loop is the better choice.\"\"\""
      ],
      "metadata": {
        "id": "7cTfk_3WHbTA",
        "colab": {
          "base_uri": "https://localhost:8080/",
          "height": 110
        },
        "outputId": "ac4273e5-c861-4969-afaa-a5dc310b33f1"
      },
      "execution_count": 33,
      "outputs": [
        {
          "output_type": "execute_result",
          "data": {
            "text/plain": [
              "'A while loop is more suitable than a for loop when the number of iterations is not known beforehand and depends on a certain condition being met. For example, consider a scenario where a user is asked to enter a password, and the program should keep prompting the user until they enter the correct one. In this case, using a while loop is ideal because the number of attempts is not fixed; it depends on when the user enters the correct password. A for loop, on the other hand, is generally used when the number of iterations is predetermined, such as looping through a list of items or running a loop a specific number of times. Therefore, when the termination condition is uncertain and depends on user input or a changing variable, a while loop is the better choice.'"
            ],
            "application/vnd.google.colaboratory.intrinsic+json": {
              "type": "string"
            }
          },
          "metadata": {},
          "execution_count": 33
        }
      ]
    },
    {
      "cell_type": "code",
      "source": [
        "# practical questions"
      ],
      "metadata": {
        "id": "iiwPupZ4mQ7q"
      },
      "execution_count": 34,
      "outputs": []
    },
    {
      "cell_type": "code",
      "source": [
        "#solution 1\n"
      ],
      "metadata": {
        "id": "ClAa_IrKs1od"
      },
      "execution_count": 35,
      "outputs": []
    },
    {
      "cell_type": "code",
      "source": [
        "print(\"hello world!\")"
      ],
      "metadata": {
        "colab": {
          "base_uri": "https://localhost:8080/"
        },
        "id": "iNYRutTrtD-T",
        "outputId": "30385d0c-04e8-4a37-f5e1-977be897a9c9"
      },
      "execution_count": 36,
      "outputs": [
        {
          "output_type": "stream",
          "name": "stdout",
          "text": [
            "hello world!\n"
          ]
        }
      ]
    },
    {
      "cell_type": "code",
      "source": [
        "#solution 2\n",
        "name= \"Pranjal Kishore\"\n",
        "age=23\n",
        "print(name)\n",
        "print(age)\n",
        "\n"
      ],
      "metadata": {
        "colab": {
          "base_uri": "https://localhost:8080/"
        },
        "id": "vAZf_QKDtVrs",
        "outputId": "6e483a8f-6c20-4a30-e29b-b86b0379b682"
      },
      "execution_count": 37,
      "outputs": [
        {
          "output_type": "stream",
          "name": "stdout",
          "text": [
            "Pranjal Kishore\n",
            "23\n"
          ]
        }
      ]
    },
    {
      "cell_type": "code",
      "source": [
        "#solution 3\n",
        "import keyword\n",
        "print(\"list of python keywords:\")\n",
        "print(keyword.kwlist)"
      ],
      "metadata": {
        "colab": {
          "base_uri": "https://localhost:8080/"
        },
        "id": "TPlHMjbpuRUH",
        "outputId": "c9e85c09-32f9-4ed8-cab3-0fb5c8e04691"
      },
      "execution_count": 40,
      "outputs": [
        {
          "output_type": "stream",
          "name": "stdout",
          "text": [
            "list of python keywords:\n",
            "['False', 'None', 'True', 'and', 'as', 'assert', 'async', 'await', 'break', 'class', 'continue', 'def', 'del', 'elif', 'else', 'except', 'finally', 'for', 'from', 'global', 'if', 'import', 'in', 'is', 'lambda', 'nonlocal', 'not', 'or', 'pass', 'raise', 'return', 'try', 'while', 'with', 'yield']\n"
          ]
        }
      ]
    },
    {
      "cell_type": "code",
      "source": [
        "\n",
        "# 4. Check if a word is a Python keyword\n",
        "word = input(\"Enter a word: \")\n",
        "print(f\"'{word}' is a keyword: {word in keyword.kwlist}\")\n"
      ],
      "metadata": {
        "colab": {
          "base_uri": "https://localhost:8080/"
        },
        "id": "vkQsmtoGvd3a",
        "outputId": "a850975c-909e-42c6-9cf2-bc906a9838a2"
      },
      "execution_count": 45,
      "outputs": [
        {
          "output_type": "stream",
          "name": "stdout",
          "text": [
            "Enter a word: if\n",
            "'if' is a keyword: True\n"
          ]
        }
      ]
    },
    {
      "cell_type": "code",
      "source": [
        "# 5. List vs Tuple mutability\n",
        "data_list = [1, 2, 3]\n",
        "data_tuple = (1, 2, 3)\n",
        "data_list[0] = 10  # Works\n",
        "try:\n",
        "    data_tuple[0] = 10  # Fails\n",
        "except TypeError:\n",
        "    print(\"Tuples are immutable\")"
      ],
      "metadata": {
        "colab": {
          "base_uri": "https://localhost:8080/"
        },
        "id": "GLIUcaHizttD",
        "outputId": "51bfcc91-ed48-467a-8f94-019f4887a68e"
      },
      "execution_count": 46,
      "outputs": [
        {
          "output_type": "stream",
          "name": "stdout",
          "text": [
            "Tuples are immutable\n"
          ]
        }
      ]
    },
    {
      "cell_type": "code",
      "source": [
        "# 6. Mutable vs Immutable arguments\n",
        "def modify(lst, txt):\n",
        "    lst.append(4)  # Mutable\n",
        "    txt += \" World\"  # Immutable\n",
        "    return lst, txt\n",
        "\n",
        "lst, txt = [1, 2, 3], \"Hello\"\n",
        "print(modify(lst, txt))\n",
        "print(lst, txt)\n"
      ],
      "metadata": {
        "colab": {
          "base_uri": "https://localhost:8080/"
        },
        "id": "tjPFzN0Sz-eZ",
        "outputId": "28cfc700-aed1-4b31-be05-335bf9952cc9"
      },
      "execution_count": 47,
      "outputs": [
        {
          "output_type": "stream",
          "name": "stdout",
          "text": [
            "([1, 2, 3, 4], 'Hello World')\n",
            "[1, 2, 3, 4] Hello\n"
          ]
        }
      ]
    },
    {
      "cell_type": "markdown",
      "source": [],
      "metadata": {
        "id": "YjrIpaJRsluV"
      }
    },
    {
      "cell_type": "code",
      "source": [
        "# 7. Basic arithmetic\n",
        "num1 = float(input(\"Enter first number: \"))\n",
        "num2 = float(input(\"Enter second number: \"))\n",
        "print(\"Sum:\", num1 + num2)\n",
        "print(\"Difference:\", num1 - num2)\n",
        "print(\"Product:\", num1 * num2)\n",
        "print(\"Quotient:\", num1 / num2 if num2 != 0 else \"Undefined\")\n"
      ],
      "metadata": {
        "id": "f_7k2Syh0HZd"
      },
      "execution_count": null,
      "outputs": []
    },
    {
      "cell_type": "code",
      "source": [
        "# 8. Logical operators\n",
        "a, b = True, False\n",
        "print(\"AND:\", a and b)\n",
        "print(\"OR:\", a or b)\n",
        "print(\"NOT A:\", not a)"
      ],
      "metadata": {
        "id": "bZw9FYFw0krU"
      },
      "execution_count": null,
      "outputs": []
    },
    {
      "cell_type": "code",
      "source": [
        "# 9. Convert input types\n",
        "val = input(\"Enter a value: \")\n",
        "print(int(val), float(val), bool(val))"
      ],
      "metadata": {
        "id": "xkZ3KoDW08uC"
      },
      "execution_count": null,
      "outputs": []
    },
    {
      "cell_type": "code",
      "source": [
        "# 10. Type casting list\n",
        "data = [\"1\", \"2\", \"3\"]\n",
        "print([int(i) for i in data])"
      ],
      "metadata": {
        "id": "NcIaLUJC1Eyz"
      },
      "execution_count": null,
      "outputs": []
    },
    {
      "cell_type": "code",
      "source": [
        "# 11. Check number sign\n",
        "num = float(input(\"Enter a number: \"))\n",
        "if num > 0:\n",
        "    print(\"Positive\")\n",
        "elif num < 0:\n",
        "    print(\"Negative\")\n",
        "else:\n",
        "    print(\"Zero\")\n"
      ],
      "metadata": {
        "id": "M5HVhRxy1JIs"
      },
      "execution_count": null,
      "outputs": []
    },
    {
      "cell_type": "code",
      "source": [
        "# 12. Print numbers 1 to 10\n",
        "for i in range(1, 11):\n",
        "    print(i)\n"
      ],
      "metadata": {
        "id": "ClZ0ILDx1URI"
      },
      "execution_count": null,
      "outputs": []
    },
    {
      "cell_type": "code",
      "source": [
        "# 13. Sum of even numbers 1-50\n",
        "even_sum = sum(range(2, 51, 2))\n",
        "print(\"Sum of even numbers:\", even_sum)"
      ],
      "metadata": {
        "id": "DUvhbjCT1j0c"
      },
      "execution_count": null,
      "outputs": []
    },
    {
      "cell_type": "code",
      "source": [
        "# 14. Reverse a string\n",
        "print(input(\"Enter a string: \")[::-1])\n"
      ],
      "metadata": {
        "id": "-3o4qU731mSE"
      },
      "execution_count": null,
      "outputs": []
    },
    {
      "cell_type": "code",
      "source": [
        "# 15. Factorial using while loop\n",
        "def factorial(n):\n",
        "    result = 1\n",
        "    while n > 1:\n",
        "        result *= n\n",
        "        n -= 1\n",
        "    return result\n",
        "\n",
        "print(\"Factorial:\", factorial(int(input(\"Enter a number: \"))))\n"
      ],
      "metadata": {
        "id": "LRreZSje1vE6"
      },
      "execution_count": null,
      "outputs": []
    }
  ]
}